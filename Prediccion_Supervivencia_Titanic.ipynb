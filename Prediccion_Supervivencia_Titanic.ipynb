{
 "cells": [
  {
   "metadata": {
    "collapsed": true
   },
   "cell_type": "markdown",
   "source": [
    "# Prediccion de supervivencia en el Titanic\n",
    "## Objetivo\n",
    "Construir un modelo de clasificacion supervisada para predecir su in pasajero sobrevivio, usando variables como edad, sexo, clase socioeconomica, numero de familiares a bordo, entre otras."
   ],
   "id": "d02c06a8d1ab0fd2"
  },
  {
   "metadata": {
    "ExecuteTime": {
     "end_time": "2025-09-03T03:24:21.812467Z",
     "start_time": "2025-09-03T03:24:21.268315Z"
    }
   },
   "cell_type": "code",
   "source": [
    "# Importo librerias\n",
    "import pandas as pd\n",
    "from sklearn.model_selection import train_test_split\n",
    "from sklearn.linear_model import LogisticRegression\n",
    "from sklearn.ensemble import RandomForestClassifier\n",
    "from sklearn.metrics import confusion_matrix, ConfusionMatrixDisplay, roc_auc_score, roc_curve\n",
    "import matplotlib.pyplot as plt"
   ],
   "id": "96d9852d68ec6b81",
   "outputs": [],
   "execution_count": 25
  },
  {
   "metadata": {
    "ExecuteTime": {
     "end_time": "2025-09-03T02:44:50.076827Z",
     "start_time": "2025-09-03T02:44:50.058885Z"
    }
   },
   "cell_type": "code",
   "source": [
    "df = pd.read_csv('Data/train.csv')\n",
    "df.head()"
   ],
   "id": "a85c9cab18ffe67f",
   "outputs": [
    {
     "data": {
      "text/plain": [
       "   PassengerId  Survived  Pclass  \\\n",
       "0            1         0       3   \n",
       "1            2         1       1   \n",
       "2            3         1       3   \n",
       "3            4         1       1   \n",
       "4            5         0       3   \n",
       "\n",
       "                                                Name     Sex   Age  SibSp  \\\n",
       "0                            Braund, Mr. Owen Harris    male  22.0      1   \n",
       "1  Cumings, Mrs. John Bradley (Florence Briggs Th...  female  38.0      1   \n",
       "2                             Heikkinen, Miss. Laina  female  26.0      0   \n",
       "3       Futrelle, Mrs. Jacques Heath (Lily May Peel)  female  35.0      1   \n",
       "4                           Allen, Mr. William Henry    male  35.0      0   \n",
       "\n",
       "   Parch            Ticket     Fare Cabin Embarked  \n",
       "0      0         A/5 21171   7.2500   NaN        S  \n",
       "1      0          PC 17599  71.2833   C85        C  \n",
       "2      0  STON/O2. 3101282   7.9250   NaN        S  \n",
       "3      0            113803  53.1000  C123        S  \n",
       "4      0            373450   8.0500   NaN        S  "
      ],
      "text/html": [
       "<div>\n",
       "<style scoped>\n",
       "    .dataframe tbody tr th:only-of-type {\n",
       "        vertical-align: middle;\n",
       "    }\n",
       "\n",
       "    .dataframe tbody tr th {\n",
       "        vertical-align: top;\n",
       "    }\n",
       "\n",
       "    .dataframe thead th {\n",
       "        text-align: right;\n",
       "    }\n",
       "</style>\n",
       "<table border=\"1\" class=\"dataframe\">\n",
       "  <thead>\n",
       "    <tr style=\"text-align: right;\">\n",
       "      <th></th>\n",
       "      <th>PassengerId</th>\n",
       "      <th>Survived</th>\n",
       "      <th>Pclass</th>\n",
       "      <th>Name</th>\n",
       "      <th>Sex</th>\n",
       "      <th>Age</th>\n",
       "      <th>SibSp</th>\n",
       "      <th>Parch</th>\n",
       "      <th>Ticket</th>\n",
       "      <th>Fare</th>\n",
       "      <th>Cabin</th>\n",
       "      <th>Embarked</th>\n",
       "    </tr>\n",
       "  </thead>\n",
       "  <tbody>\n",
       "    <tr>\n",
       "      <th>0</th>\n",
       "      <td>1</td>\n",
       "      <td>0</td>\n",
       "      <td>3</td>\n",
       "      <td>Braund, Mr. Owen Harris</td>\n",
       "      <td>male</td>\n",
       "      <td>22.0</td>\n",
       "      <td>1</td>\n",
       "      <td>0</td>\n",
       "      <td>A/5 21171</td>\n",
       "      <td>7.2500</td>\n",
       "      <td>NaN</td>\n",
       "      <td>S</td>\n",
       "    </tr>\n",
       "    <tr>\n",
       "      <th>1</th>\n",
       "      <td>2</td>\n",
       "      <td>1</td>\n",
       "      <td>1</td>\n",
       "      <td>Cumings, Mrs. John Bradley (Florence Briggs Th...</td>\n",
       "      <td>female</td>\n",
       "      <td>38.0</td>\n",
       "      <td>1</td>\n",
       "      <td>0</td>\n",
       "      <td>PC 17599</td>\n",
       "      <td>71.2833</td>\n",
       "      <td>C85</td>\n",
       "      <td>C</td>\n",
       "    </tr>\n",
       "    <tr>\n",
       "      <th>2</th>\n",
       "      <td>3</td>\n",
       "      <td>1</td>\n",
       "      <td>3</td>\n",
       "      <td>Heikkinen, Miss. Laina</td>\n",
       "      <td>female</td>\n",
       "      <td>26.0</td>\n",
       "      <td>0</td>\n",
       "      <td>0</td>\n",
       "      <td>STON/O2. 3101282</td>\n",
       "      <td>7.9250</td>\n",
       "      <td>NaN</td>\n",
       "      <td>S</td>\n",
       "    </tr>\n",
       "    <tr>\n",
       "      <th>3</th>\n",
       "      <td>4</td>\n",
       "      <td>1</td>\n",
       "      <td>1</td>\n",
       "      <td>Futrelle, Mrs. Jacques Heath (Lily May Peel)</td>\n",
       "      <td>female</td>\n",
       "      <td>35.0</td>\n",
       "      <td>1</td>\n",
       "      <td>0</td>\n",
       "      <td>113803</td>\n",
       "      <td>53.1000</td>\n",
       "      <td>C123</td>\n",
       "      <td>S</td>\n",
       "    </tr>\n",
       "    <tr>\n",
       "      <th>4</th>\n",
       "      <td>5</td>\n",
       "      <td>0</td>\n",
       "      <td>3</td>\n",
       "      <td>Allen, Mr. William Henry</td>\n",
       "      <td>male</td>\n",
       "      <td>35.0</td>\n",
       "      <td>0</td>\n",
       "      <td>0</td>\n",
       "      <td>373450</td>\n",
       "      <td>8.0500</td>\n",
       "      <td>NaN</td>\n",
       "      <td>S</td>\n",
       "    </tr>\n",
       "  </tbody>\n",
       "</table>\n",
       "</div>"
      ]
     },
     "execution_count": 15,
     "metadata": {},
     "output_type": "execute_result"
    }
   ],
   "execution_count": 15
  },
  {
   "metadata": {},
   "cell_type": "markdown",
   "source": "## Exploración y limpieza inicial",
   "id": "4ebb785bd0439777"
  },
  {
   "metadata": {
    "ExecuteTime": {
     "end_time": "2025-09-03T02:44:51.495964Z",
     "start_time": "2025-09-03T02:44:51.478996Z"
    }
   },
   "cell_type": "code",
   "source": [
    "df.info()\n",
    "df.describe()\n",
    "df.isnull().sum()"
   ],
   "id": "bce08bacee6b151e",
   "outputs": [
    {
     "name": "stdout",
     "output_type": "stream",
     "text": [
      "<class 'pandas.core.frame.DataFrame'>\n",
      "RangeIndex: 891 entries, 0 to 890\n",
      "Data columns (total 12 columns):\n",
      " #   Column       Non-Null Count  Dtype  \n",
      "---  ------       --------------  -----  \n",
      " 0   PassengerId  891 non-null    int64  \n",
      " 1   Survived     891 non-null    int64  \n",
      " 2   Pclass       891 non-null    int64  \n",
      " 3   Name         891 non-null    object \n",
      " 4   Sex          891 non-null    object \n",
      " 5   Age          714 non-null    float64\n",
      " 6   SibSp        891 non-null    int64  \n",
      " 7   Parch        891 non-null    int64  \n",
      " 8   Ticket       891 non-null    object \n",
      " 9   Fare         891 non-null    float64\n",
      " 10  Cabin        204 non-null    object \n",
      " 11  Embarked     889 non-null    object \n",
      "dtypes: float64(2), int64(5), object(5)\n",
      "memory usage: 83.7+ KB\n"
     ]
    },
    {
     "data": {
      "text/plain": [
       "PassengerId      0\n",
       "Survived         0\n",
       "Pclass           0\n",
       "Name             0\n",
       "Sex              0\n",
       "Age            177\n",
       "SibSp            0\n",
       "Parch            0\n",
       "Ticket           0\n",
       "Fare             0\n",
       "Cabin          687\n",
       "Embarked         2\n",
       "dtype: int64"
      ]
     },
     "execution_count": 16,
     "metadata": {},
     "output_type": "execute_result"
    }
   ],
   "execution_count": 16
  },
  {
   "metadata": {},
   "cell_type": "markdown",
   "source": [
    "### Observaciones:\n",
    "* Age tiene valores nulos --> Puede ser imputado\n",
    "* Cabin tiene valores nulos --> Puede ser eliminado\n",
    "* Embarked tiene valores nulos --> Puede ser imputado"
   ],
   "id": "7fba85881aef659"
  },
  {
   "metadata": {},
   "cell_type": "markdown",
   "source": "## Imputación de valores faltantes",
   "id": "abb33672cb0dc29b"
  },
  {
   "metadata": {
    "ExecuteTime": {
     "end_time": "2025-09-03T02:44:55.155542Z",
     "start_time": "2025-09-03T02:44:55.148035Z"
    }
   },
   "cell_type": "code",
   "source": [
    "# Edad: Imputación con la mediana (clave string, no lista)\n",
    "df.fillna({'Age': df['Age'].median()}, inplace=True)\n",
    "\n",
    "# Embarked: imputar con modo (clave string, no lista)\n",
    "df.fillna({'Embarked': df['Embarked'].mode()[0]}, inplace=True)\n",
    "\n",
    "# Eliminar Cabin por mucha cantidad de nulos\n",
    "df.drop(columns=['Cabin'], inplace=True)"
   ],
   "id": "f70be47fcb467946",
   "outputs": [],
   "execution_count": 17
  },
  {
   "metadata": {},
   "cell_type": "markdown",
   "source": "## Ingenieria de caracteristicas",
   "id": "1f2f27c31632bbcd"
  },
  {
   "metadata": {
    "ExecuteTime": {
     "end_time": "2025-09-03T02:52:34.959953Z",
     "start_time": "2025-09-03T02:52:34.944987Z"
    }
   },
   "cell_type": "code",
   "source": [
    "# Codificar 'Sex' y 'Embarked'\n",
    "df['Sex'] = df['Sex'].map({'male': 0, 'female': 1})\n",
    "df = pd.get_dummies(df, columns=['Embarked'], drop_first=True)\n",
    "\n",
    "# Selecciono features relevantes\n",
    "features = ['Pclass','Sex', 'Age', 'SibSp', 'Parch', 'Fare', 'Embarked_Q', 'Embarked_S']\n",
    "X = df[features]\n",
    "y = df['Survived']"
   ],
   "id": "b17c022f2ff06190",
   "outputs": [],
   "execution_count": 18
  },
  {
   "metadata": {},
   "cell_type": "markdown",
   "source": "## Division de variables en entrenamiento y prueba",
   "id": "f29acc760a5cecc8"
  },
  {
   "metadata": {
    "ExecuteTime": {
     "end_time": "2025-09-03T02:54:12.446022Z",
     "start_time": "2025-09-03T02:54:12.435660Z"
    }
   },
   "cell_type": "code",
   "source": "X_entrena, X_prueba, y_entrena, y_prueba = train_test_split(X, y, test_size=0.2, random_state=42, stratify=y)",
   "id": "c5b040f4b0b883e3",
   "outputs": [],
   "execution_count": 20
  },
  {
   "metadata": {},
   "cell_type": "markdown",
   "source": "## Entrenamiento de modelos",
   "id": "c9fa9f84f18dd3e"
  },
  {
   "metadata": {
    "ExecuteTime": {
     "end_time": "2025-09-03T02:58:45.875629Z",
     "start_time": "2025-09-03T02:58:45.691116Z"
    }
   },
   "cell_type": "code",
   "source": [
    "modelos = [\n",
    "    ('Logistic Regression', LogisticRegression(max_iter = 500)),\n",
    "    ('Random Forest', RandomForestClassifier(random_state=42))\n",
    "]\n",
    "\n",
    "for nombre, modelo in modelos:\n",
    "    modelo.fit(X_entrena, y_entrena)\n",
    "    score = modelo.score(X_prueba, y_prueba)\n",
    "    print(f'{nombre}: Precision = {score*100:.2f}%')"
   ],
   "id": "7f9b9e63a6be1f31",
   "outputs": [
    {
     "name": "stdout",
     "output_type": "stream",
     "text": [
      "Logistic Regression: Precision = 80.45%\n",
      "Random Forest: Precision = 80.45%\n"
     ]
    }
   ],
   "execution_count": 23
  },
  {
   "metadata": {},
   "cell_type": "markdown",
   "source": "## Matriz de confusión y curva ROC",
   "id": "3760cb2b064eaee2"
  },
  {
   "metadata": {
    "ExecuteTime": {
     "end_time": "2025-09-03T03:35:38.953298Z",
     "start_time": "2025-09-03T03:35:38.730417Z"
    }
   },
   "cell_type": "code",
   "source": [
    "# Ejemplo con Random Forest\n",
    "modelo_rf = modelos[1][1]\n",
    "y_prediccion = modelo_rf.predict(X_prueba)\n",
    "y_probabilidad = modelo_rf.predict_proba(X_prueba)[:, 1]\n",
    "\n",
    "# Matriz de confusión\n",
    "cm = confusion_matrix(y_prueba, y_prediccion)\n",
    "display = ConfusionMatrixDisplay(confusion_matrix=cm)\n",
    "display.plot(cmap = 'Blues')\n",
    "plt.title('Matriz de confusión - Random Forest')\n",
    "plt.show()\n",
    "\n",
    "# Curva ROC\n",
    "fpr, tpr ,_ = roc_curve(y_prueba, y_probabilidad)\n",
    "roc_auc = roc_auc_score(y_prueba, y_probabilidad)\n",
    "plt.plot(fpr, tpr, label=f'AUC = {roc_auc:.2f}')\n",
    "plt.plot([0, 1], [0, 1], 'k--')\n",
    "plt.title('Curva ROC - Random Forest')\n",
    "plt.xlabel('False Positive Rate')\n",
    "plt.ylabel('True Positive Rate')\n",
    "plt.legend()\n",
    "plt.grid(True)\n",
    "plt.show()\n"
   ],
   "id": "c7e8b2aa28422033",
   "outputs": [
    {
     "data": {
      "text/plain": [
       "<Figure size 640x480 with 2 Axes>"
      ],
      "image/png": "[encoded data removed]"
     },
     "metadata": {},
     "output_type": "display_data",
     "jetTransient": {
      "display_id": null
     }
    },
    {
     "data": {
      "text/plain": [
       "<Figure size 640x480 with 1 Axes>"
      ],
      "image/png": "[encoded data removed]"
     },
     "metadata": {},
     "output_type": "display_data",
     "jetTransient": {
      "display_id": null
     }
    }
   ],
   "execution_count": 28
  },
  {
   "metadata": {},
   "cell_type": "markdown",
   "source": [
    "## ¿Que variables influyen mas en la supervivencia?\n",
    "### Importancia de variables en Random Forest"
   ],
   "id": "b02aa05237fe5f8c"
  },
  {
   "metadata": {},
   "cell_type": "markdown",
   "source": "Con el siguiente bloque puedo ver cuáles variables fueron más utiles para tomar decisiones en los árboles. Por ejemplo, `Fare` y `Sex` tienen una importancia alta, lo que quiere decir que se usaron mucho para dividir los nodos.",
   "id": "3bf935127b8f1720"
  },
  {
   "metadata": {
    "ExecuteTime": {
     "end_time": "2025-09-03T03:45:59.083912Z",
     "start_time": "2025-09-03T03:45:59.075019Z"
    }
   },
   "cell_type": "code",
   "source": [
    "importances = modelo_rf.feature_importances_\n",
    "for feature, importance in zip(X.columns, importances):\n",
    "    print(f'{feature}: {importance:.4f}')"
   ],
   "id": "6eadc1c01e6650a1",
   "outputs": [
    {
     "name": "stdout",
     "output_type": "stream",
     "text": [
      "Pclass: 0.0853\n",
      "Sex: 0.2646\n",
      "Age: 0.2510\n",
      "SibSp: 0.0498\n",
      "Parch: 0.0389\n",
      "Fare: 0.2750\n",
      "Embarked_Q: 0.0122\n",
      "Embarked_S: 0.0232\n"
     ]
    }
   ],
   "execution_count": 29
  },
  {
   "metadata": {},
   "cell_type": "markdown",
   "source": "### Coeficientes en Regresión Logica",
   "id": "d462a8db23c90e06"
  },
  {
   "metadata": {},
   "cell_type": "markdown",
   "source": "Con el siguiente bloque puedo ver cuáles variables tuvieron efecto positivo o negativo en regresión lineal. Por ejemplo, un coeficiente negativo en Sex (donde 0 = Hombre y 1 = Mujer) indicaria que ser mujer aumenta la probabilidad de supervivencia.",
   "id": "38c6f0b7b8422cc6"
  },
  {
   "metadata": {
    "ExecuteTime": {
     "end_time": "2025-09-03T03:52:35.156350Z",
     "start_time": "2025-09-03T03:52:35.152109Z"
    }
   },
   "cell_type": "code",
   "source": [
    "coef = modelos[0][1].coef_[0]\n",
    "for feature, weight in zip(X.columns, coef):\n",
    "    print(f'{feature}: {weight:.4f}')"
   ],
   "id": "8ca517b1e85757de",
   "outputs": [
    {
     "name": "stdout",
     "output_type": "stream",
     "text": [
      "Pclass: -1.0922\n",
      "Sex: 2.5590\n",
      "Age: -0.0386\n",
      "SibSp: -0.2446\n",
      "Parch: -0.0709\n",
      "Fare: 0.0022\n",
      "Embarked_Q: 0.2791\n",
      "Embarked_S: -0.3823\n"
     ]
    }
   ],
   "execution_count": 30
  },
  {
   "metadata": {},
   "cell_type": "markdown",
   "source": [
    "## ¿Que modelo se comporto mejor y porque?\n",
    "Aunque ambos modelos dieron la misma precisión, eso no significa que tienen el mismo comportamiento y para validar cual fue el mas adecuado podemos usar una validacion de Curva ROC y AUC.\n",
    "\n",
    "Entonces el modelo con mayor AUC tiene mejor capacidad de distinguir entre las clases (sobrevivió o no sobrevivió), incluso si sus accuracy fueron iguales."
   ],
   "id": "6bd6ed956519835"
  },
  {
   "metadata": {
    "ExecuteTime": {
     "end_time": "2025-09-03T05:05:20.457005Z",
     "start_time": "2025-09-03T05:05:20.344498Z"
    }
   },
   "cell_type": "code",
   "source": [
    "# Ejemplo con Random Forest\n",
    "modelo_lr = modelos[0][1]\n",
    "y_prediccion = modelo_rf.predict(X_prueba)\n",
    "y_probabilidad_lr = modelo_lr.predict_proba(X_prueba)[:, 1]\n",
    "auc_lr = roc_auc_score(y_prueba, y_probabilidad_lr)\n",
    "print(f\"AUC Logistic Regression: {auc_lr:.4f}\")\n",
    "\n",
    "\n",
    "# Curva ROC\n",
    "fpr, tpr ,_ = roc_curve(y_prueba, y_probabilidad_lr)\n",
    "roc_auc = roc_auc_score(y_prueba, y_probabilidad_lr)\n",
    "plt.plot(fpr, tpr, label=f'AUC = {roc_auc:.2f}')\n",
    "plt.plot([0, 1], [0, 1], 'k--')\n",
    "plt.title('Curva ROC - Regresión Logística')\n",
    "plt.xlabel('False Positive Rate')\n",
    "plt.ylabel('True Positive Rate')\n",
    "plt.legend()\n",
    "plt.grid(True)\n",
    "plt.show()"
   ],
   "id": "b01b787b978180e2",
   "outputs": [
    {
     "name": "stdout",
     "output_type": "stream",
     "text": [
      "AUC Logistic Regression: 0.8443\n"
     ]
    },
    {
     "data": {
      "text/plain": [
       "<Figure size 640x480 with 1 Axes>"
      ],
      "image/png": "[encoded data removed]"
     },
     "metadata": {},
     "output_type": "display_data",
     "jetTransient": {
      "display_id": null
     }
    }
   ],
   "execution_count": 31
  },
  {
   "metadata": {
    "ExecuteTime": {
     "end_time": "2025-09-03T05:15:43.506412Z",
     "start_time": "2025-09-03T05:15:43.498885Z"
    }
   },
   "cell_type": "markdown",
   "source": [
    "# 🚢 Caso práctico: Predicción de supervivencia en el Titanic\n",
    "\n",
    "### 🎯 Objetivo\n",
    "Construir un modelo de clasificación supervisada para predecir si un pasajero sobrevivió, utilizando variables demográficas y de viaje como edad, sexo, clase socioeconómica, número de familiares a bordo, entre otras.\n",
    "\n",
    "---\n",
    "\n",
    "### 🧪 Pasos realizados\n",
    "\n",
    "- Carga del dataset `train.csv` desde Kaggle\n",
    "- Exploración inicial y análisis de valores nulos\n",
    "- Imputación de edad con mediana y embarque con modo\n",
    "- Eliminación de la variable `Cabin` por alta proporción de nulos\n",
    "- Codificación binaria de `Sex` y dummies para `Embarked`\n",
    "- Selección de variables relevantes para el modelo\n",
    "- División en entrenamiento y prueba (`test_size=0.2`, `stratify=y`)\n",
    "- Entrenamiento de modelos: Regresión Logística y Random Forest\n",
    "- Evaluación con accuracy, matriz de confusión y curva ROC\n",
    "- Análisis de importancia de variables y coeficientes\n",
    "\n",
    "---\n",
    "\n",
    "### 📊 Resultados\n",
    "\n",
    "| Modelo              | Accuracy (%) | AUC (ROC) |\n",
    "|---------------------|--------------|-----------|\n",
    "| Regresión Logística | 80.45        | 0.84      |\n",
    "| Random Forest       | 80.45        | 0.83      |\n",
    "\n",
    "- Ambos modelos lograron la misma precisión, pero la regresión logística mostró una ligera ventaja en capacidad de discriminación (AUC).\n",
    "- La matriz de confusión reveló errores balanceados entre falsos positivos y negativos.\n",
    "- La variable `Sex` fue la más influyente en ambos modelos, seguida por `Pclass` y `Fare`.\n",
    "- La imputación de edad y la codificación de variables categóricas permitieron estabilizar el entrenamiento sin pérdida de información relevante.\n",
    "\n",
    "---\n",
    "\n",
    "### 💬 Reflexión\n",
    "\n",
    "> “Este ejercicio me permitió aplicar un flujo completo de clasificación binaria, desde la limpieza de datos hasta la interpretación de resultados. Aunque ambos modelos lograron la misma precisión, el análisis de AUC y coeficientes me permitió identificar diferencias sutiles en su comportamiento. La regresión logística ofreció mayor interpretabilidad, mientras que Random Forest mostró robustez ante variables no lineales. La visualización de la curva ROC y la matriz de confusión me ayudaron a entender el balance entre aciertos y errores. Este tipo de análisis me parece esencial para justificar decisiones de modelo en entornos reales.”\n",
    "\n",
    "---\n",
    "\n",
    "### 📎 Recursos utilizados\n",
    "\n",
    "- Dataset: Titanic (`train.csv`) desde [Kaggle](https://www.kaggle.com/c/titanic/data)\n",
    "- Librerías: `Pandas`, `Scikit-Learn`, `Matplotlib`, `NumPy`\n",
    "- Entorno: `Jupyter Notebook`\n",
    "\n",
    "---\n",
    "\n",
    "### 📂 Estructura del proyecto\n",
    "\n",
    "<>\n",
    "/titanic_survival_prediction/ │ ├── titanic_model.ipynb ├── README.md ├── resultados/ │   ├── matriz_confusion_rf.png │   ├── matriz_confusion_lr.png │   ├── curva_roc_rf.png │   ├── curva_roc_lr.png │   └── importancia_variables.png"
   ],
   "id": "963fc7a7d370e06c"
  }
 ],
 "metadata": {
  "kernelspec": {
   "display_name": "Python 3",
   "language": "python",
   "name": "python3"
  },
  "language_info": {
   "codemirror_mode": {
    "name": "ipython",
    "version": 2
   },
   "file_extension": ".py",
   "mimetype": "text/x-python",
   "name": "python",
   "nbconvert_exporter": "python",
   "pygments_lexer": "ipython2",
   "version": "2.7.6"
  }
 },
 "nbformat": 4,
 "nbformat_minor": 5
}
